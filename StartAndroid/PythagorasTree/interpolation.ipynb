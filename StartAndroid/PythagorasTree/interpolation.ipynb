{
 "cells": [
  {
   "cell_type": "code",
   "execution_count": 93,
   "metadata": {},
   "outputs": [],
   "source": [
    "from math import *"
   ]
  },
  {
   "cell_type": "code",
   "execution_count": 79,
   "metadata": {},
   "outputs": [
    {
     "name": "stdout",
     "output_type": "stream",
     "text": [
      "4\n"
     ]
    }
   ],
   "source": [
    "a = 0\n",
    "b = 1\n",
    "n = int(input())"
   ]
  },
  {
   "cell_type": "code",
   "execution_count": 80,
   "metadata": {},
   "outputs": [
    {
     "name": "stdout",
     "output_type": "stream",
     "text": [
      "[0.0, 0.25, 0.5, 0.75, 1.0]\n"
     ]
    }
   ],
   "source": [
    "mas = [a + (b-a)/n*i for i in range(n+1)]\n",
    "print(mas)"
   ]
  },
  {
   "cell_type": "code",
   "execution_count": 81,
   "metadata": {},
   "outputs": [],
   "source": [
    "def func(x):\n",
    "    return(abs(x) * sin(x))"
   ]
  },
  {
   "cell_type": "code",
   "execution_count": 82,
   "metadata": {},
   "outputs": [
    {
     "name": "stdout",
     "output_type": "stream",
     "text": [
      "[0.0, 0.061850989813630734, 0.2397127693021015, 0.5112290700175006, 0.8414709848078965]\n"
     ]
    }
   ],
   "source": [
    "masf = [func(x) for x in mas]\n",
    "print(masf)"
   ]
  },
  {
   "cell_type": "code",
   "execution_count": 83,
   "metadata": {},
   "outputs": [],
   "source": [
    "def poly_lag(x, y_mas):\n",
    "    s = 0\n",
    "    for i in range(n+1):\n",
    "        pr = 1\n",
    "        for j in range(n+1):\n",
    "            if (i != j):\n",
    "                pr *= ((x - mas[j])/(mas[i] - mas[j]))\n",
    "        s += (y_mas[i] * pr)\n",
    "    return(s)"
   ]
  },
  {
   "cell_type": "code",
   "execution_count": 84,
   "metadata": {},
   "outputs": [
    {
     "name": "stdout",
     "output_type": "stream",
     "text": [
      "[0.0, 0.061850989813630734, 0.2397127693021015, 0.5112290700175006, 0.8414709848078965]\n"
     ]
    }
   ],
   "source": [
    "pol_mas = [poly_lag(x, masf) for x in mas]\n",
    "print(pol_mas)"
   ]
  },
  {
   "cell_type": "code",
   "execution_count": 132,
   "metadata": {},
   "outputs": [],
   "source": [
    "def delta(p, j):\n",
    "    if p == 1:\n",
    "        return (masf[j] - masf[j - 1])\n",
    "    return (delta(p - 1, j) - delta(p - 1, j - 1))"
   ]
  },
  {
   "cell_type": "code",
   "execution_count": 158,
   "metadata": {},
   "outputs": [],
   "source": [
    "def ce(colc):\n",
    "    if colc == 0:\n",
    "        return masf[0]\n",
    "    return(delta(colc, colc)/(factorial(colc) * (mas[1]-mas[0]) ** colc))"
   ]
  },
  {
   "cell_type": "code",
   "execution_count": 159,
   "metadata": {},
   "outputs": [],
   "source": [
    "def poly_nute(x):\n",
    "    s = ce(0)\n",
    "    pr = 1\n",
    "    for i in range(n):\n",
    "        pr *= (x - mas[i])\n",
    "        s += (ce(i+1) * pr)\n",
    "    return(s)"
   ]
  },
  {
   "cell_type": "code",
   "execution_count": 160,
   "metadata": {},
   "outputs": [],
   "source": [
    "nut_mas = [poly_nute(x) for x in mas]"
   ]
  },
  {
   "cell_type": "code",
   "execution_count": 161,
   "metadata": {},
   "outputs": [
    {
     "name": "stdout",
     "output_type": "stream",
     "text": [
      "[0.0, 0.061850989813630734, 0.2397127693021015, 0.5112290700175006, 0.8414709848078965]\n"
     ]
    }
   ],
   "source": [
    "print(nut_mas)"
   ]
  },
  {
   "cell_type": "code",
   "execution_count": 162,
   "metadata": {},
   "outputs": [],
   "source": [
    "m = n * 4"
   ]
  },
  {
   "cell_type": "code",
   "execution_count": 163,
   "metadata": {},
   "outputs": [
    {
     "data": {
      "text/plain": [
       "16"
      ]
     },
     "execution_count": 163,
     "metadata": {},
     "output_type": "execute_result"
    }
   ],
   "source": [
    "m"
   ]
  },
  {
   "cell_type": "code",
   "execution_count": 164,
   "metadata": {},
   "outputs": [
    {
     "name": "stdout",
     "output_type": "stream",
     "text": [
      "[0.0, 0.0625, 0.125, 0.1875, 0.25, 0.3125, 0.375, 0.4375, 0.5, 0.5625, 0.625, 0.6875, 0.75, 0.8125, 0.875, 0.9375, 1.0]\n"
     ]
    }
   ],
   "source": [
    "mas_otv = [round((a + (b-a)/m*i), 10) for i in range(m+1)]\n",
    "print(mas_otv)"
   ]
  },
  {
   "cell_type": "code",
   "execution_count": 165,
   "metadata": {},
   "outputs": [],
   "source": [
    "func_mas = [func(x) for x in mas_otv]"
   ]
  },
  {
   "cell_type": "code",
   "execution_count": 166,
   "metadata": {},
   "outputs": [],
   "source": [
    "mas_Lag = [poly_lag(x, masf) for x in mas_otv]"
   ]
  },
  {
   "cell_type": "code",
   "execution_count": 167,
   "metadata": {},
   "outputs": [
    {
     "name": "stdout",
     "output_type": "stream",
     "text": [
      "[0.0, 0.003836829238795449, 0.015517998118841664, 0.03491519336035913, 0.061850989813630734, 0.09609885045900181, 0.1373831264068801, 0.18537905689773582, 0.2397127693021015, 0.2999612791205722, 0.3656524899838053, 0.43626519365252064, 0.5112290700175006, 0.5899246870995899, 0.6716835010496954, 0.755787856148787, 0.8414709848078965]\n"
     ]
    }
   ],
   "source": [
    "mas_nute = [poly_nute(x) for x in mas_otv]\n",
    "print(mas_nute)"
   ]
  },
  {
   "cell_type": "code",
   "execution_count": 176,
   "metadata": {},
   "outputs": [
    {
     "name": "stdout",
     "output_type": "stream",
     "text": [
      "x       |  f(x)                   |  L(x)                   | N(x)\n",
      "--------|-------------------------|-------------------------|---------------------\n",
      "0.0     |  0.0                    |  0.0                    | 0.0\n",
      "--------|-------------------------|-------------------------|---------------------\n",
      "0.0625  |  0.0039037073651487625  |  0.0038368292387954347  | 0.003836829238795449\n",
      "--------|-------------------------|-------------------------|---------------------\n",
      "0.125   |  0.015584341673153462   |  0.01551799811884167    | 0.015517998118841664\n",
      "--------|-------------------------|-------------------------|---------------------\n",
      "0.1875  |  0.034950618142925605   |  0.034915193360359115   | 0.03491519336035913\n",
      "--------|-------------------------|-------------------------|---------------------\n",
      "0.25    |  0.061850989813630734   |  0.061850989813630734   | 0.061850989813630734\n",
      "--------|-------------------------|-------------------------|---------------------\n",
      "0.3125  |  0.09607453580636902    |  0.0960988504590018     | 0.09609885045900181\n",
      "--------|-------------------------|-------------------------|---------------------\n",
      "0.375   |  0.13735219840726784    |  0.13738312640688013    | 0.1373831264068801\n",
      "--------|-------------------------|-------------------------|---------------------\n",
      "0.4375  |  0.1853583625267229     |  0.18537905689773582    | 0.18537905689773582\n",
      "--------|-------------------------|-------------------------|---------------------\n",
      "0.5     |  0.2397127693021015     |  0.2397127693021015     | 0.2397127693021015\n",
      "--------|-------------------------|-------------------------|---------------------\n",
      "0.5625  |  0.2999827538640113     |  0.2999612791205722     | 0.2999612791205722\n",
      "--------|-------------------------|-------------------------|---------------------\n",
      "0.625   |  0.3656857955877889     |  0.36565248998380523    | 0.3656524899838053\n",
      "--------|-------------------------|-------------------------|---------------------\n",
      "0.6875  |  0.43629236751049766    |  0.43626519365252064    | 0.43626519365252064\n",
      "--------|-------------------------|-------------------------|---------------------\n",
      "0.75    |  0.5112290700175006     |  0.5112290700175006     | 0.5112290700175006\n",
      "--------|-------------------------|-------------------------|---------------------\n",
      "0.8125  |  0.589882032399329      |  0.5899246870995898     | 0.5899246870995899\n",
      "--------|-------------------------|-------------------------|---------------------\n",
      "0.875   |  0.6716005644565237     |  0.6716835010496955     | 0.6716835010496954\n",
      "--------|-------------------------|-------------------------|---------------------\n",
      "0.9375  |  0.7557010389943997     |  0.755787856148787      | 0.755787856148787\n",
      "--------|-------------------------|-------------------------|---------------------\n",
      "1.0     |  0.8414709848078965     |  0.8414709848078965     | 0.8414709848078965\n",
      "--------|-------------------------|-------------------------|---------------------\n"
     ]
    }
   ],
   "source": [
    "print(\"x\" + \" \"*7 + \"|\" + \" \"*2 + \"f(x)\" + \" \"*19 + \"|\" + \" \" + \" L(x)\" + \" \"*19 + \"|\" + \" \" + \"N(x)\" )\n",
    "print(\"--------|-------------------------|-------------------------|---------------------\")\n",
    "for i in range(m+1):\n",
    "    print(f\"{mas_otv[i]}\" + \" \"*(8 - len(str(mas_otv[i]))) + \"|\" + \" \"*2 + f\"{func_mas[i]}\" + \" \"*(23 - len(str(func_mas[i]))) + \"|\" + \" \"*2 + f\"{mas_Lag[i]}\" + \" \"*(23 - len(str(mas_Lag[i]))) + \"| \" + f\"{mas_nute[i]}\")\n",
    "    print(\"--------|-------------------------|-------------------------|---------------------\")"
   ]
  },
  {
   "cell_type": "code",
   "execution_count": null,
   "metadata": {},
   "outputs": [],
   "source": []
  },
  {
   "cell_type": "code",
   "execution_count": null,
   "metadata": {},
   "outputs": [],
   "source": []
  }
 ],
 "metadata": {
  "kernelspec": {
   "display_name": "Python 3",
   "language": "python",
   "name": "python3"
  },
  "language_info": {
   "codemirror_mode": {
    "name": "ipython",
    "version": 3
   },
   "file_extension": ".py",
   "mimetype": "text/x-python",
   "name": "python",
   "nbconvert_exporter": "python",
   "pygments_lexer": "ipython3",
   "version": "3.6.5"
  }
 },
 "nbformat": 4,
 "nbformat_minor": 2
}
